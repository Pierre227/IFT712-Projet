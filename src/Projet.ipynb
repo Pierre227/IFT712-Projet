{
 "cells": [
  {
   "cell_type": "markdown",
   "metadata": {},
   "source": [
    "# Projet de session - IFT712"
   ]
  },
  {
   "cell_type": "markdown",
   "metadata": {},
   "source": [
    "## Configuration"
   ]
  },
  {
   "cell_type": "code",
   "execution_count": 15,
   "metadata": {},
   "outputs": [
    {
     "name": "stdout",
     "output_type": "stream",
     "text": [
      "Requirement already satisfied: numpy in /Users/victorchau/opt/anaconda3/lib/python3.9/site-packages (from -r ../requirements.txt (line 1)) (1.21.5)\n",
      "Requirement already satisfied: scipy in /Users/victorchau/opt/anaconda3/lib/python3.9/site-packages (from -r ../requirements.txt (line 2)) (1.9.1)\n",
      "Requirement already satisfied: scikit-learn in /Users/victorchau/opt/anaconda3/lib/python3.9/site-packages (from -r ../requirements.txt (line 3)) (1.0.2)\n",
      "Requirement already satisfied: matplotlib in /Users/victorchau/opt/anaconda3/lib/python3.9/site-packages (from -r ../requirements.txt (line 4)) (3.5.2)\n",
      "Requirement already satisfied: ipython in /Users/victorchau/opt/anaconda3/lib/python3.9/site-packages (from -r ../requirements.txt (line 5)) (7.31.1)\n",
      "Requirement already satisfied: jupyter in /Users/victorchau/opt/anaconda3/lib/python3.9/site-packages (from -r ../requirements.txt (line 6)) (1.0.0)\n",
      "Requirement already satisfied: threadpoolctl>=2.0.0 in /Users/victorchau/opt/anaconda3/lib/python3.9/site-packages (from scikit-learn->-r ../requirements.txt (line 3)) (2.2.0)\n",
      "Requirement already satisfied: joblib>=0.11 in /Users/victorchau/opt/anaconda3/lib/python3.9/site-packages (from scikit-learn->-r ../requirements.txt (line 3)) (1.1.0)\n",
      "Requirement already satisfied: fonttools>=4.22.0 in /Users/victorchau/opt/anaconda3/lib/python3.9/site-packages (from matplotlib->-r ../requirements.txt (line 4)) (4.25.0)\n",
      "Requirement already satisfied: pillow>=6.2.0 in /Users/victorchau/opt/anaconda3/lib/python3.9/site-packages (from matplotlib->-r ../requirements.txt (line 4)) (9.2.0)\n",
      "Requirement already satisfied: kiwisolver>=1.0.1 in /Users/victorchau/opt/anaconda3/lib/python3.9/site-packages (from matplotlib->-r ../requirements.txt (line 4)) (1.4.2)\n",
      "Requirement already satisfied: pyparsing>=2.2.1 in /Users/victorchau/opt/anaconda3/lib/python3.9/site-packages (from matplotlib->-r ../requirements.txt (line 4)) (3.0.9)\n",
      "Requirement already satisfied: cycler>=0.10 in /Users/victorchau/opt/anaconda3/lib/python3.9/site-packages (from matplotlib->-r ../requirements.txt (line 4)) (0.11.0)\n",
      "Requirement already satisfied: packaging>=20.0 in /Users/victorchau/opt/anaconda3/lib/python3.9/site-packages (from matplotlib->-r ../requirements.txt (line 4)) (21.3)\n",
      "Requirement already satisfied: python-dateutil>=2.7 in /Users/victorchau/opt/anaconda3/lib/python3.9/site-packages (from matplotlib->-r ../requirements.txt (line 4)) (2.8.2)\n",
      "Requirement already satisfied: traitlets>=4.2 in /Users/victorchau/opt/anaconda3/lib/python3.9/site-packages (from ipython->-r ../requirements.txt (line 5)) (5.1.1)\n",
      "Requirement already satisfied: jedi>=0.16 in /Users/victorchau/opt/anaconda3/lib/python3.9/site-packages (from ipython->-r ../requirements.txt (line 5)) (0.18.1)\n",
      "Requirement already satisfied: prompt-toolkit!=3.0.0,!=3.0.1,<3.1.0,>=2.0.0 in /Users/victorchau/opt/anaconda3/lib/python3.9/site-packages (from ipython->-r ../requirements.txt (line 5)) (3.0.20)\n",
      "Requirement already satisfied: appnope in /Users/victorchau/opt/anaconda3/lib/python3.9/site-packages (from ipython->-r ../requirements.txt (line 5)) (0.1.2)\n",
      "Requirement already satisfied: pexpect>4.3 in /Users/victorchau/opt/anaconda3/lib/python3.9/site-packages (from ipython->-r ../requirements.txt (line 5)) (4.8.0)\n",
      "Requirement already satisfied: pickleshare in /Users/victorchau/opt/anaconda3/lib/python3.9/site-packages (from ipython->-r ../requirements.txt (line 5)) (0.7.5)\n",
      "Requirement already satisfied: matplotlib-inline in /Users/victorchau/opt/anaconda3/lib/python3.9/site-packages (from ipython->-r ../requirements.txt (line 5)) (0.1.6)\n",
      "Requirement already satisfied: decorator in /Users/victorchau/opt/anaconda3/lib/python3.9/site-packages (from ipython->-r ../requirements.txt (line 5)) (5.1.1)\n",
      "Requirement already satisfied: backcall in /Users/victorchau/opt/anaconda3/lib/python3.9/site-packages (from ipython->-r ../requirements.txt (line 5)) (0.2.0)\n",
      "Requirement already satisfied: setuptools>=18.5 in /Users/victorchau/opt/anaconda3/lib/python3.9/site-packages (from ipython->-r ../requirements.txt (line 5)) (63.4.1)\n",
      "Requirement already satisfied: pygments in /Users/victorchau/opt/anaconda3/lib/python3.9/site-packages (from ipython->-r ../requirements.txt (line 5)) (2.11.2)\n",
      "Requirement already satisfied: ipykernel in /Users/victorchau/opt/anaconda3/lib/python3.9/site-packages (from jupyter->-r ../requirements.txt (line 6)) (6.15.2)\n",
      "Requirement already satisfied: ipywidgets in /Users/victorchau/opt/anaconda3/lib/python3.9/site-packages (from jupyter->-r ../requirements.txt (line 6)) (7.6.5)\n",
      "Requirement already satisfied: qtconsole in /Users/victorchau/opt/anaconda3/lib/python3.9/site-packages (from jupyter->-r ../requirements.txt (line 6)) (5.3.2)\n",
      "Requirement already satisfied: nbconvert in /Users/victorchau/opt/anaconda3/lib/python3.9/site-packages (from jupyter->-r ../requirements.txt (line 6)) (6.4.4)\n",
      "Requirement already satisfied: notebook in /Users/victorchau/opt/anaconda3/lib/python3.9/site-packages (from jupyter->-r ../requirements.txt (line 6)) (6.4.12)\n",
      "Requirement already satisfied: jupyter-console in /Users/victorchau/opt/anaconda3/lib/python3.9/site-packages (from jupyter->-r ../requirements.txt (line 6)) (6.4.3)\n",
      "Requirement already satisfied: parso<0.9.0,>=0.8.0 in /Users/victorchau/opt/anaconda3/lib/python3.9/site-packages (from jedi>=0.16->ipython->-r ../requirements.txt (line 5)) (0.8.3)\n",
      "Requirement already satisfied: ptyprocess>=0.5 in /Users/victorchau/opt/anaconda3/lib/python3.9/site-packages (from pexpect>4.3->ipython->-r ../requirements.txt (line 5)) (0.7.0)\n",
      "Requirement already satisfied: wcwidth in /Users/victorchau/opt/anaconda3/lib/python3.9/site-packages (from prompt-toolkit!=3.0.0,!=3.0.1,<3.1.0,>=2.0.0->ipython->-r ../requirements.txt (line 5)) (0.2.5)\n",
      "Requirement already satisfied: six>=1.5 in /Users/victorchau/opt/anaconda3/lib/python3.9/site-packages (from python-dateutil>=2.7->matplotlib->-r ../requirements.txt (line 4)) (1.16.0)\n",
      "Requirement already satisfied: pyzmq>=17 in /Users/victorchau/opt/anaconda3/lib/python3.9/site-packages (from ipykernel->jupyter->-r ../requirements.txt (line 6)) (23.2.0)\n",
      "Requirement already satisfied: tornado>=6.1 in /Users/victorchau/opt/anaconda3/lib/python3.9/site-packages (from ipykernel->jupyter->-r ../requirements.txt (line 6)) (6.1)\n",
      "Requirement already satisfied: nest-asyncio in /Users/victorchau/opt/anaconda3/lib/python3.9/site-packages (from ipykernel->jupyter->-r ../requirements.txt (line 6)) (1.5.5)\n",
      "Requirement already satisfied: debugpy>=1.0 in /Users/victorchau/opt/anaconda3/lib/python3.9/site-packages (from ipykernel->jupyter->-r ../requirements.txt (line 6)) (1.5.1)\n",
      "Requirement already satisfied: psutil in /Users/victorchau/opt/anaconda3/lib/python3.9/site-packages (from ipykernel->jupyter->-r ../requirements.txt (line 6)) (5.9.0)\n",
      "Requirement already satisfied: jupyter-client>=6.1.12 in /Users/victorchau/opt/anaconda3/lib/python3.9/site-packages (from ipykernel->jupyter->-r ../requirements.txt (line 6)) (7.3.4)\n",
      "Requirement already satisfied: ipython-genutils~=0.2.0 in /Users/victorchau/opt/anaconda3/lib/python3.9/site-packages (from ipywidgets->jupyter->-r ../requirements.txt (line 6)) (0.2.0)\n",
      "Requirement already satisfied: nbformat>=4.2.0 in /Users/victorchau/opt/anaconda3/lib/python3.9/site-packages (from ipywidgets->jupyter->-r ../requirements.txt (line 6)) (5.5.0)\n",
      "Requirement already satisfied: widgetsnbextension~=3.5.0 in /Users/victorchau/opt/anaconda3/lib/python3.9/site-packages (from ipywidgets->jupyter->-r ../requirements.txt (line 6)) (3.5.2)\n",
      "Requirement already satisfied: jupyterlab-widgets>=1.0.0 in /Users/victorchau/opt/anaconda3/lib/python3.9/site-packages (from ipywidgets->jupyter->-r ../requirements.txt (line 6)) (1.0.0)\n",
      "Requirement already satisfied: defusedxml in /Users/victorchau/opt/anaconda3/lib/python3.9/site-packages (from nbconvert->jupyter->-r ../requirements.txt (line 6)) (0.7.1)\n",
      "Requirement already satisfied: bleach in /Users/victorchau/opt/anaconda3/lib/python3.9/site-packages (from nbconvert->jupyter->-r ../requirements.txt (line 6)) (4.1.0)\n",
      "Requirement already satisfied: mistune<2,>=0.8.1 in /Users/victorchau/opt/anaconda3/lib/python3.9/site-packages (from nbconvert->jupyter->-r ../requirements.txt (line 6)) (0.8.4)\n",
      "Requirement already satisfied: jupyterlab-pygments in /Users/victorchau/opt/anaconda3/lib/python3.9/site-packages (from nbconvert->jupyter->-r ../requirements.txt (line 6)) (0.1.2)\n",
      "Requirement already satisfied: entrypoints>=0.2.2 in /Users/victorchau/opt/anaconda3/lib/python3.9/site-packages (from nbconvert->jupyter->-r ../requirements.txt (line 6)) (0.4)\n",
      "Requirement already satisfied: testpath in /Users/victorchau/opt/anaconda3/lib/python3.9/site-packages (from nbconvert->jupyter->-r ../requirements.txt (line 6)) (0.6.0)\n",
      "Requirement already satisfied: nbclient<0.6.0,>=0.5.0 in /Users/victorchau/opt/anaconda3/lib/python3.9/site-packages (from nbconvert->jupyter->-r ../requirements.txt (line 6)) (0.5.13)\n",
      "Requirement already satisfied: pandocfilters>=1.4.1 in /Users/victorchau/opt/anaconda3/lib/python3.9/site-packages (from nbconvert->jupyter->-r ../requirements.txt (line 6)) (1.5.0)\n",
      "Requirement already satisfied: jupyter-core in /Users/victorchau/opt/anaconda3/lib/python3.9/site-packages (from nbconvert->jupyter->-r ../requirements.txt (line 6)) (4.11.1)\n",
      "Requirement already satisfied: beautifulsoup4 in /Users/victorchau/opt/anaconda3/lib/python3.9/site-packages (from nbconvert->jupyter->-r ../requirements.txt (line 6)) (4.11.1)\n",
      "Requirement already satisfied: jinja2>=2.4 in /Users/victorchau/opt/anaconda3/lib/python3.9/site-packages (from nbconvert->jupyter->-r ../requirements.txt (line 6)) (2.11.3)\n",
      "Requirement already satisfied: Send2Trash>=1.8.0 in /Users/victorchau/opt/anaconda3/lib/python3.9/site-packages (from notebook->jupyter->-r ../requirements.txt (line 6)) (1.8.0)\n"
     ]
    },
    {
     "name": "stdout",
     "output_type": "stream",
     "text": [
      "Requirement already satisfied: terminado>=0.8.3 in /Users/victorchau/opt/anaconda3/lib/python3.9/site-packages (from notebook->jupyter->-r ../requirements.txt (line 6)) (0.13.1)\n",
      "Requirement already satisfied: prometheus-client in /Users/victorchau/opt/anaconda3/lib/python3.9/site-packages (from notebook->jupyter->-r ../requirements.txt (line 6)) (0.14.1)\n",
      "Requirement already satisfied: argon2-cffi in /Users/victorchau/opt/anaconda3/lib/python3.9/site-packages (from notebook->jupyter->-r ../requirements.txt (line 6)) (21.3.0)\n",
      "Requirement already satisfied: qtpy>=2.0.1 in /Users/victorchau/opt/anaconda3/lib/python3.9/site-packages (from qtconsole->jupyter->-r ../requirements.txt (line 6)) (2.2.0)\n",
      "Requirement already satisfied: MarkupSafe>=0.23 in /Users/victorchau/opt/anaconda3/lib/python3.9/site-packages (from jinja2>=2.4->nbconvert->jupyter->-r ../requirements.txt (line 6)) (2.0.1)\n",
      "Requirement already satisfied: fastjsonschema in /Users/victorchau/opt/anaconda3/lib/python3.9/site-packages (from nbformat>=4.2.0->ipywidgets->jupyter->-r ../requirements.txt (line 6)) (2.16.2)\n",
      "Requirement already satisfied: jsonschema>=2.6 in /Users/victorchau/opt/anaconda3/lib/python3.9/site-packages (from nbformat>=4.2.0->ipywidgets->jupyter->-r ../requirements.txt (line 6)) (4.16.0)\n",
      "Requirement already satisfied: argon2-cffi-bindings in /Users/victorchau/opt/anaconda3/lib/python3.9/site-packages (from argon2-cffi->notebook->jupyter->-r ../requirements.txt (line 6)) (21.2.0)\n",
      "Requirement already satisfied: soupsieve>1.2 in /Users/victorchau/opt/anaconda3/lib/python3.9/site-packages (from beautifulsoup4->nbconvert->jupyter->-r ../requirements.txt (line 6)) (2.3.1)\n",
      "Requirement already satisfied: webencodings in /Users/victorchau/opt/anaconda3/lib/python3.9/site-packages (from bleach->nbconvert->jupyter->-r ../requirements.txt (line 6)) (0.5.1)\n",
      "Requirement already satisfied: attrs>=17.4.0 in /Users/victorchau/opt/anaconda3/lib/python3.9/site-packages (from jsonschema>=2.6->nbformat>=4.2.0->ipywidgets->jupyter->-r ../requirements.txt (line 6)) (21.4.0)\n",
      "Requirement already satisfied: pyrsistent!=0.17.0,!=0.17.1,!=0.17.2,>=0.14.0 in /Users/victorchau/opt/anaconda3/lib/python3.9/site-packages (from jsonschema>=2.6->nbformat>=4.2.0->ipywidgets->jupyter->-r ../requirements.txt (line 6)) (0.18.0)\n",
      "Requirement already satisfied: cffi>=1.0.1 in /Users/victorchau/opt/anaconda3/lib/python3.9/site-packages (from argon2-cffi-bindings->argon2-cffi->notebook->jupyter->-r ../requirements.txt (line 6)) (1.15.1)\n",
      "Requirement already satisfied: pycparser in /Users/victorchau/opt/anaconda3/lib/python3.9/site-packages (from cffi>=1.0.1->argon2-cffi-bindings->argon2-cffi->notebook->jupyter->-r ../requirements.txt (line 6)) (2.21)\n",
      "Note: you may need to restart the kernel to use updated packages.\n"
     ]
    }
   ],
   "source": [
    "pip install -r '../requirements.txt'"
   ]
  },
  {
   "cell_type": "code",
   "execution_count": 1,
   "metadata": {},
   "outputs": [],
   "source": [
    "import data_manager.data_manager\n",
    "import data_manager.data_organizer"
   ]
  },
  {
   "cell_type": "code",
   "execution_count": 2,
   "metadata": {},
   "outputs": [],
   "source": [
    "# Load the database.\n",
    "db = data_manager.data_manager.DatabaseManager('')\n",
    "db.load()\n",
    "# Get the datasets.\n",
    "dataset = db.get_train_dataset().drop('id', axis=1)"
   ]
  },
  {
   "cell_type": "code",
   "execution_count": 3,
   "metadata": {},
   "outputs": [],
   "source": [
    "do = data_manager.data_organizer.DataOrganizer()\n",
    "do.shuffle(dataset, dataset.columns)\n",
    "do.standardize(dataset, dataset.columns[1:])\n",
    "do.numerize(dataset, dataset.columns[0])"
   ]
  },
  {
   "cell_type": "code",
   "execution_count": 4,
   "metadata": {},
   "outputs": [],
   "source": [
    "# Split the dataset in 70%/30%.\n",
    "training_dataset = dataset[:int(dataset.shape[0] * 0.7)]\n",
    "test_dataset = dataset[int(dataset.shape[0] * 0.7):]\n",
    "\n",
    "# Separate the inputs from the targets.\n",
    "training_inputs = training_dataset.drop('species', axis=1)\n",
    "training_targets = training_dataset['species']\n",
    "\n",
    "test_inputs = test_dataset.drop('species', axis=1)\n",
    "test_targets = test_dataset['species']"
   ]
  },
  {
   "cell_type": "code",
   "execution_count": 5,
   "metadata": {},
   "outputs": [],
   "source": [
    "X = dataset.drop('species', axis=1)\n",
    "y = dataset['species']"
   ]
  },
  {
   "cell_type": "markdown",
   "metadata": {},
   "source": [
    "## KNN :"
   ]
  },
  {
   "cell_type": "code",
   "execution_count": null,
   "metadata": {},
   "outputs": [],
   "source": [
    "import models.kneighbors_classifier\n",
    "\n",
    "clf=models.kneighbors_classifier.KneighborsClassifier()"
   ]
  },
  {
   "cell_type": "code",
   "execution_count": null,
   "metadata": {},
   "outputs": [],
   "source": [
    "clf.train(training_inputs, training_targets)"
   ]
  },
  {
   "cell_type": "code",
   "execution_count": null,
   "metadata": {},
   "outputs": [],
   "source": [
    "clf.score(test_inputs, test_targets)"
   ]
  },
  {
   "cell_type": "markdown",
   "metadata": {},
   "source": [
    "## SVM :"
   ]
  },
  {
   "cell_type": "code",
   "execution_count": null,
   "metadata": {},
   "outputs": [],
   "source": [
    "import models.svm_classifier\n",
    "clf=models.svm_classifier.SVMClassifier()"
   ]
  },
  {
   "cell_type": "code",
   "execution_count": null,
   "metadata": {},
   "outputs": [],
   "source": [
    "clf.train(training_inputs, training_targets)"
   ]
  },
  {
   "cell_type": "code",
   "execution_count": null,
   "metadata": {},
   "outputs": [],
   "source": [
    "clf.score(test_inputs, test_targets)"
   ]
  },
  {
   "cell_type": "markdown",
   "metadata": {},
   "source": [
    "## Logistic Regression :"
   ]
  },
  {
   "cell_type": "code",
   "execution_count": 6,
   "metadata": {},
   "outputs": [],
   "source": [
    "import models.logistic_regression_classifier\n",
    "lr = models.logistic_regression_classifier.LogisticRegressionClassifier()"
   ]
  },
  {
   "cell_type": "code",
   "execution_count": 7,
   "metadata": {},
   "outputs": [],
   "source": [
    "lr.train(training_inputs, training_targets)"
   ]
  },
  {
   "cell_type": "code",
   "execution_count": 8,
   "metadata": {},
   "outputs": [
    {
     "data": {
      "text/plain": [
       "0.98989898989899"
      ]
     },
     "execution_count": 8,
     "metadata": {},
     "output_type": "execute_result"
    }
   ],
   "source": [
    "lr.score(test_inputs, test_targets)"
   ]
  },
  {
   "cell_type": "code",
   "execution_count": 11,
   "metadata": {},
   "outputs": [
    {
     "ename": "TypeError",
     "evalue": "cross_v() takes 4 positional arguments but 5 were given",
     "output_type": "error",
     "traceback": [
      "\u001b[0;31m---------------------------------------------------------------------------\u001b[0m",
      "\u001b[0;31mTypeError\u001b[0m                                 Traceback (most recent call last)",
      "\u001b[0;32m/var/folders/c2/3mzypt196054mhl9_h5s51rc0000gn/T/ipykernel_53561/3923088634.py\u001b[0m in \u001b[0;36m<module>\u001b[0;34m\u001b[0m\n\u001b[1;32m      1\u001b[0m \u001b[0;32mfrom\u001b[0m \u001b[0msklearn\u001b[0m\u001b[0;34m.\u001b[0m\u001b[0mmodel_selection\u001b[0m \u001b[0;32mimport\u001b[0m \u001b[0mcross_val_score\u001b[0m\u001b[0;34m\u001b[0m\u001b[0;34m\u001b[0m\u001b[0m\n\u001b[0;32m----> 2\u001b[0;31m \u001b[0mscores\u001b[0m \u001b[0;34m=\u001b[0m \u001b[0mlr\u001b[0m\u001b[0;34m.\u001b[0m\u001b[0mcross_v\u001b[0m\u001b[0;34m(\u001b[0m\u001b[0mlr\u001b[0m\u001b[0;34m,\u001b[0m \u001b[0mX\u001b[0m\u001b[0;34m,\u001b[0m \u001b[0my\u001b[0m\u001b[0;34m,\u001b[0m \u001b[0;36m5\u001b[0m\u001b[0;34m)\u001b[0m\u001b[0;34m\u001b[0m\u001b[0;34m\u001b[0m\u001b[0m\n\u001b[0m",
      "\u001b[0;31mTypeError\u001b[0m: cross_v() takes 4 positional arguments but 5 were given"
     ]
    }
   ],
   "source": [
    "from sklearn.model_selection import cross_val_score\n",
    "scores = lr.cross_v(lr, X, y, 5)"
   ]
  },
  {
   "cell_type": "markdown",
   "metadata": {},
   "source": [
    "## MLP :"
   ]
  },
  {
   "cell_type": "code",
   "execution_count": null,
   "metadata": {},
   "outputs": [],
   "source": [
    "import models.mlp_classifier\n",
    "mlp = models.mlp_classifier.MLPClassifier()"
   ]
  },
  {
   "cell_type": "code",
   "execution_count": null,
   "metadata": {},
   "outputs": [],
   "source": [
    "mlp.train(training_inputs, training_targets)"
   ]
  },
  {
   "cell_type": "code",
   "execution_count": null,
   "metadata": {},
   "outputs": [],
   "source": [
    "mlp.score(test_inputs, test_targets)"
   ]
  },
  {
   "cell_type": "markdown",
   "metadata": {},
   "source": [
    "## Perceptron :"
   ]
  },
  {
   "cell_type": "code",
   "execution_count": null,
   "metadata": {},
   "outputs": [],
   "source": [
    "import models.perceptron_classifier\n",
    "per = models.perceptron_classifier.PerceptronClassifier()"
   ]
  },
  {
   "cell_type": "code",
   "execution_count": null,
   "metadata": {},
   "outputs": [],
   "source": [
    "per.train(training_inputs, training_targets)"
   ]
  },
  {
   "cell_type": "code",
   "execution_count": null,
   "metadata": {},
   "outputs": [],
   "source": [
    "per.score(test_inputs, test_targets)"
   ]
  },
  {
   "cell_type": "markdown",
   "metadata": {},
   "source": [
    "## SVC :"
   ]
  },
  {
   "cell_type": "code",
   "execution_count": null,
   "metadata": {},
   "outputs": [],
   "source": [
    "import models.svc_classifier\n",
    "svc = models.svc_classifier.SVCClassifier()"
   ]
  },
  {
   "cell_type": "code",
   "execution_count": null,
   "metadata": {},
   "outputs": [],
   "source": [
    "svc.train(training_inputs, training_targets)"
   ]
  },
  {
   "cell_type": "code",
   "execution_count": null,
   "metadata": {},
   "outputs": [],
   "source": [
    "svc.score(test_inputs, test_targets)"
   ]
  }
 ],
 "metadata": {
  "kernelspec": {
   "display_name": "Python 3 (ipykernel)",
   "language": "python",
   "name": "python3"
  },
  "language_info": {
   "codemirror_mode": {
    "name": "ipython",
    "version": 3
   },
   "file_extension": ".py",
   "mimetype": "text/x-python",
   "name": "python",
   "nbconvert_exporter": "python",
   "pygments_lexer": "ipython3",
   "version": "3.9.13"
  },
  "vscode": {
   "interpreter": {
    "hash": "2a8dfe095fce2b5e88c64a2c3ee084c8e0e0d70b23e7b95b1cfb538be294c5c8"
   }
  }
 },
 "nbformat": 4,
 "nbformat_minor": 2
}
