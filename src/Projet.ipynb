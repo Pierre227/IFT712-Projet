{
 "cells": [
  {
   "cell_type": "markdown",
   "metadata": {},
   "source": [
    "# Projet de session - IFT712"
   ]
  },
  {
   "cell_type": "markdown",
   "metadata": {},
   "source": [
    "Configuration"
   ]
  },
  {
   "cell_type": "code",
   "execution_count": 34,
   "metadata": {},
   "outputs": [],
   "source": [
    "import data_manager.data_manager\n",
    "import data_manager.data_organizer"
   ]
  },
  {
   "cell_type": "code",
   "execution_count": 35,
   "metadata": {},
   "outputs": [],
   "source": [
    "# Load the database.\n",
    "db = data_manager.data_manager.DatabaseManager('')\n",
    "db.load()\n",
    "# Get the datasets.\n",
    "dataset = db.get_train_dataset().drop('id', axis=1)"
   ]
  },
  {
   "cell_type": "code",
   "execution_count": 36,
   "metadata": {},
   "outputs": [],
   "source": [
    "do = data_manager.data_organizer.DataOrganizer()\n",
    "do.shuffle(dataset, dataset.columns)\n",
    "do.standardize(dataset, dataset.columns[1:])\n",
    "do.numerize(dataset, dataset.columns[0])"
   ]
  },
  {
   "cell_type": "code",
   "execution_count": 37,
   "metadata": {},
   "outputs": [],
   "source": [
    "# Split the dataset in 70%/30%.\n",
    "training_dataset = dataset[:int(dataset.shape[0] * 0.7)]\n",
    "test_dataset = dataset[int(dataset.shape[0] * 0.7):]\n",
    "\n",
    "# Separate the inputs from the targets.\n",
    "training_inputs = training_dataset.drop('species', axis=1)\n",
    "training_targets = training_dataset['species']\n",
    "\n",
    "test_inputs = test_dataset.drop('species', axis=1)\n",
    "test_targets = test_dataset['species']"
   ]
  },
  {
   "cell_type": "code",
   "execution_count": 38,
   "metadata": {},
   "outputs": [
    {
     "data": {
      "text/plain": [
       "0.9562289562289562"
      ]
     },
     "execution_count": 38,
     "metadata": {},
     "output_type": "execute_result"
    }
   ],
   "source": [
    "from sklearn.svm import SVC\n",
    "\n",
    "cl = SVC()\n",
    "cl.fit(training_inputs, training_targets)\n",
    "cl.score(test_inputs, test_targets)"
   ]
  }
 ],
 "metadata": {
  "kernelspec": {
   "display_name": "Python 3 (ipykernel)",
   "language": "python",
   "name": "python3"
  },
  "language_info": {
   "codemirror_mode": {
    "name": "ipython",
    "version": 3
   },
   "file_extension": ".py",
   "mimetype": "text/x-python",
   "name": "python",
   "nbconvert_exporter": "python",
   "pygments_lexer": "ipython3",
   "version": "3.10.5"
  },
  "vscode": {
   "interpreter": {
    "hash": "2a8dfe095fce2b5e88c64a2c3ee084c8e0e0d70b23e7b95b1cfb538be294c5c8"
   }
  }
 },
 "nbformat": 4,
 "nbformat_minor": 2
}
