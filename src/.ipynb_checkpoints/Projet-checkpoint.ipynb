{
 "cells": [
  {
   "cell_type": "markdown",
   "metadata": {},
   "source": [
    "# Projet de session - IFT712"
   ]
  },
  {
   "cell_type": "markdown",
   "metadata": {},
   "source": [
    "Configuration"
   ]
  },
  {
   "cell_type": "code",
   "execution_count": 1,
   "metadata": {},
   "outputs": [],
   "source": [
    "import data_manager.data_manager"
   ]
  },
  {
   "cell_type": "code",
   "execution_count": 11,
   "metadata": {},
   "outputs": [],
   "source": [
    "# Load the database.\n",
    "db = data_manager.data_manager.DatabaseManager('..')\n",
    "db.load()\n",
    "# Get the datasets.\n",
    "dataset = db.get_train_dataset()"
   ]
  },
  {
   "cell_type": "code",
   "execution_count": 12,
   "metadata": {},
   "outputs": [
    {
     "name": "stdout",
     "output_type": "stream",
     "text": [
      "Index(['id', 'species', 'margin1', 'margin2', 'margin3', 'margin4', 'margin5',\n",
      "       'margin6', 'margin7', 'margin8',\n",
      "       ...\n",
      "       'texture55', 'texture56', 'texture57', 'texture58', 'texture59',\n",
      "       'texture60', 'texture61', 'texture62', 'texture63', 'texture64'],\n",
      "      dtype='object', length=194)\n"
     ]
    }
   ],
   "source": [
    "print(dataset.columns)"
   ]
  },
  {
   "cell_type": "code",
   "execution_count": 16,
   "metadata": {},
   "outputs": [
    {
     "name": "stdout",
     "output_type": "stream",
     "text": [
      "       id                species   margin1   margin2   margin3   margin4  \\\n",
      "0       1            Acer_Opalus  0.007812  0.023438  0.023438  0.003906   \n",
      "1       2  Pterocarya_Stenoptera  0.005859  0.000000  0.031250  0.015625   \n",
      "2       3   Quercus_Hartwissiana  0.005859  0.009766  0.019531  0.007812   \n",
      "3       5        Tilia_Tomentosa  0.000000  0.003906  0.023438  0.005859   \n",
      "4       6     Quercus_Variabilis  0.005859  0.003906  0.048828  0.009766   \n",
      "..    ...                    ...       ...       ...       ...       ...   \n",
      "985  1575   Magnolia_Salicifolia  0.060547  0.119140  0.007812  0.003906   \n",
      "986  1578            Acer_Pictum  0.001953  0.003906  0.021484  0.107420   \n",
      "987  1581     Alnus_Maximowiczii  0.001953  0.003906  0.000000  0.021484   \n",
      "988  1582          Quercus_Rubra  0.000000  0.000000  0.046875  0.056641   \n",
      "989  1584         Quercus_Afares  0.023438  0.019531  0.031250  0.015625   \n",
      "\n",
      "      margin5   margin6   margin7  margin8  ...  texture55  texture56  \\\n",
      "0    0.011719  0.009766  0.027344      0.0  ...   0.007812   0.000000   \n",
      "1    0.025391  0.001953  0.019531      0.0  ...   0.000977   0.000000   \n",
      "2    0.003906  0.005859  0.068359      0.0  ...   0.154300   0.000000   \n",
      "3    0.021484  0.019531  0.023438      0.0  ...   0.000000   0.000977   \n",
      "4    0.013672  0.015625  0.005859      0.0  ...   0.096680   0.000000   \n",
      "..        ...       ...       ...      ...  ...        ...        ...   \n",
      "985  0.000000  0.148440  0.017578      0.0  ...   0.242190   0.000000   \n",
      "986  0.001953  0.000000  0.000000      0.0  ...   0.170900   0.000000   \n",
      "987  0.078125  0.003906  0.007812      0.0  ...   0.004883   0.000977   \n",
      "988  0.009766  0.000000  0.000000      0.0  ...   0.083008   0.030273   \n",
      "989  0.005859  0.019531  0.035156      0.0  ...   0.000000   0.000000   \n",
      "\n",
      "     texture57  texture58  texture59  texture60  texture61  texture62  \\\n",
      "0     0.002930   0.002930   0.035156   0.000000   0.000000   0.004883   \n",
      "1     0.000000   0.000977   0.023438   0.000000   0.000000   0.000977   \n",
      "2     0.005859   0.000977   0.007812   0.000000   0.000000   0.000000   \n",
      "3     0.000000   0.000000   0.020508   0.000000   0.000000   0.017578   \n",
      "4     0.021484   0.000000   0.000000   0.000000   0.000000   0.000000   \n",
      "..         ...        ...        ...        ...        ...        ...   \n",
      "985   0.034180   0.000000   0.010742   0.000000   0.000000   0.000000   \n",
      "986   0.018555   0.000000   0.011719   0.000000   0.000000   0.000977   \n",
      "987   0.004883   0.027344   0.016602   0.007812   0.000000   0.027344   \n",
      "988   0.000977   0.002930   0.014648   0.000000   0.041992   0.000000   \n",
      "989   0.002930   0.000000   0.012695   0.000000   0.000000   0.023438   \n",
      "\n",
      "     texture63  texture64  \n",
      "0     0.000000   0.025391  \n",
      "1     0.039062   0.022461  \n",
      "2     0.020508   0.002930  \n",
      "3     0.000000   0.047852  \n",
      "4     0.000000   0.031250  \n",
      "..         ...        ...  \n",
      "985   0.000000   0.018555  \n",
      "986   0.000000   0.021484  \n",
      "987   0.000000   0.001953  \n",
      "988   0.001953   0.002930  \n",
      "989   0.025391   0.022461  \n",
      "\n",
      "[990 rows x 194 columns]\n"
     ]
    }
   ],
   "source": [
    "print(dataset)"
   ]
  },
  {
   "cell_type": "code",
   "execution_count": null,
   "metadata": {},
   "outputs": [],
   "source": []
  }
 ],
 "metadata": {
  "kernelspec": {
   "display_name": "Python 3 (ipykernel)",
   "language": "python",
   "name": "python3"
  },
  "language_info": {
   "codemirror_mode": {
    "name": "ipython",
    "version": 3
   },
   "file_extension": ".py",
   "mimetype": "text/x-python",
   "name": "python",
   "nbconvert_exporter": "python",
   "pygments_lexer": "ipython3",
   "version": "3.9.12"
  },
  "vscode": {
   "interpreter": {
    "hash": "2a8dfe095fce2b5e88c64a2c3ee084c8e0e0d70b23e7b95b1cfb538be294c5c8"
   }
  }
 },
 "nbformat": 4,
 "nbformat_minor": 2
}
